{
  "nbformat": 4,
  "nbformat_minor": 0,
  "metadata": {
    "colab": {
      "name": "cyclic_quot.ipynb",
      "provenance": [],
      "collapsed_sections": [],
      "include_colab_link": true
    },
    "kernelspec": {
      "name": "python3",
      "display_name": "Python 3"
    }
  },
  "cells": [
    {
      "cell_type": "markdown",
      "metadata": {
        "id": "view-in-github",
        "colab_type": "text"
      },
      "source": [
        "<a href=\"https://colab.research.google.com/github/tooflesswulf/cyclic_quotient/blob/master/cyclic_quot.ipynb\" target=\"_parent\"><img src=\"https://colab.research.google.com/assets/colab-badge.svg\" alt=\"Open In Colab\"/></a>"
      ]
    },
    {
      "cell_type": "markdown",
      "metadata": {
        "id": "PuFfaj3VJWXa",
        "colab_type": "text"
      },
      "source": [
        "Web sync copy on github:\n",
        "\n",
        "[cyclic_quotient](https://github.com/tooflesswulf/cyclic_quotient)"
      ]
    },
    {
      "cell_type": "code",
      "metadata": {
        "id": "xcImZIGcJZAg",
        "colab_type": "code",
        "colab": {}
      },
      "source": [
        "import numpy as np\n",
        "import matplotlib.pyplot as plt\n",
        "import matplotlib\n",
        "\n",
        "matplotlib.rc('image', cmap='hot')\n",
        "\n",
        "%matplotlib inline"
      ],
      "execution_count": 48,
      "outputs": []
    },
    {
      "cell_type": "code",
      "metadata": {
        "id": "tOKYPbVHtGam",
        "colab_type": "code",
        "colab": {}
      },
      "source": [
        "def order(a,n):\n",
        "    for i in (range(n)):\n",
        "        if((a * (i+1)) % (n) == 0):\n",
        "            return (i+1)\n",
        "def values(a,b,n):\n",
        "    return np.lcm(order(a,n), order(b,n))*np.gcd(n,a+b)/(n)\n",
        "def check_thm(n):\n",
        "    table = np.zeros(shape=(n,n))\n",
        "    for i in range(n):\n",
        "        for j in range(i, n):\n",
        "            table[i, j] = values(i, j, n)\n",
        "            table[j, i] = table[i, j]\n",
        "\n",
        "    return table"
      ],
      "execution_count": null,
      "outputs": []
    },
    {
      "cell_type": "code",
      "metadata": {
        "id": "olteonY1JgRp",
        "colab_type": "code",
        "colab": {}
      },
      "source": [
        "def off_diag(sz, val):\n",
        "  mat = np.ones((sz, sz))\n",
        "  blyat = np.arange(sz)[1:]\n",
        "  mat[blyat, blyat[::-1]] = val\n",
        "  return mat\n",
        "\n",
        "def tile(mat, n):\n",
        "  return np.tile(mat, (n,n))\n"
      ],
      "execution_count": null,
      "outputs": []
    },
    {
      "cell_type": "code",
      "metadata": {
        "id": "WBDrN4TUuFsO",
        "colab_type": "code",
        "colab": {}
      },
      "source": [
        "# prime matrix of p^n\n",
        "def prime_mat(p, n=1):\n",
        "  m = off_diag(p, p)\n",
        "  sz = p\n",
        "  while n > 1:\n",
        "    sz = sz * p\n",
        "    m = tile(m, p) * off_diag(sz, p)\n",
        "    n -= 1\n",
        "  return m\n",
        "\n",
        "def primes(n):\n",
        "    primfac = []\n",
        "    d = 2\n",
        "    while d*d <= n:\n",
        "        while (n % d) == 0:\n",
        "            primfac.append(d)  # supposing you want multiple factors repeated\n",
        "            n //= d\n",
        "        d += 1\n",
        "    if n > 1:\n",
        "       primfac.append(n)\n",
        "    return primfac\n",
        "\n",
        "def yoink(n):\n",
        "  mats = [prime_mat(p, n) for p, n in np.array(np.unique(primes(n), return_counts=True)).T]\n",
        "  mat = mats[0]\n",
        "  for m in mats[1:]:\n",
        "    s1,_ = mat.shape\n",
        "    s2,_ = m.shape\n",
        "    mat = tile(mat, s2) * tile(m, s1)\n",
        "  return mat"
      ],
      "execution_count": 83,
      "outputs": []
    },
    {
      "cell_type": "code",
      "metadata": {
        "id": "nEFit8fUyuhW",
        "colab_type": "code",
        "colab": {
          "base_uri": "https://localhost:8080/",
          "height": 34
        },
        "outputId": "60cc591b-3bc7-47e4-c6fc-9c6690d895d8"
      },
      "source": [
        "[np.all(yoink(k) - check_thm(k) == 0) for k in [2,3,7,14,32,54]]"
      ],
      "execution_count": 85,
      "outputs": [
        {
          "output_type": "execute_result",
          "data": {
            "text/plain": [
              "[True, True, True, True, True, True]"
            ]
          },
          "metadata": {
            "tags": []
          },
          "execution_count": 85
        }
      ]
    },
    {
      "cell_type": "code",
      "metadata": {
        "id": "b8K9gaPZzBIh",
        "colab_type": "code",
        "colab": {
          "base_uri": "https://localhost:8080/",
          "height": 286
        },
        "outputId": "b0dec743-0319-4aaa-860a-2a6e4bc150be"
      },
      "source": [
        "blyat = tile(mats[1], 9) * tile(mats[0], 16)\n",
        "plt.imshow(blyat)"
      ],
      "execution_count": 61,
      "outputs": [
        {
          "output_type": "execute_result",
          "data": {
            "text/plain": [
              "<matplotlib.image.AxesImage at 0x7f7393ab3e10>"
            ]
          },
          "metadata": {
            "tags": []
          },
          "execution_count": 61
        },
        {
          "output_type": "display_data",
          "data": {
            "image/png": "[encoded data removed]",
            "text/plain": [
              "<Figure size 432x288 with 1 Axes>"
            ]
          },
          "metadata": {
            "tags": [],
            "needs_background": "light"
          }
        }
      ]
    },
    {
      "cell_type": "code",
      "metadata": {
        "id": "xM-VCZYxzVeL",
        "colab_type": "code",
        "colab": {
          "base_uri": "https://localhost:8080/",
          "height": 34
        },
        "outputId": "223f79d2-9bea-45ef-bc3f-ade44c0971d9"
      },
      "source": [
        "np.all(blyat - check_thm(144) == 0)"
      ],
      "execution_count": 64,
      "outputs": [
        {
          "output_type": "execute_result",
          "data": {
            "text/plain": [
              "True"
            ]
          },
          "metadata": {
            "tags": []
          },
          "execution_count": 64
        }
      ]
    },
    {
      "cell_type": "code",
      "metadata": {
        "id": "CK2htc63wD12",
        "colab_type": "code",
        "colab": {}
      },
      "source": [
        ""
      ],
      "execution_count": null,
      "outputs": []
    },
    {
      "cell_type": "code",
      "metadata": {
        "id": "dbtIFDKo27dL",
        "colab_type": "code",
        "colab": {}
      },
      "source": [
        ""
      ],
      "execution_count": null,
      "outputs": []
    },
    {
      "cell_type": "code",
      "metadata": {
        "id": "N7VIKuYP27hW",
        "colab_type": "code",
        "colab": {}
      },
      "source": [
        ""
      ],
      "execution_count": null,
      "outputs": []
    },
    {
      "cell_type": "code",
      "metadata": {
        "id": "Q4LBgUuk27k4",
        "colab_type": "code",
        "colab": {}
      },
      "source": [
        ""
      ],
      "execution_count": null,
      "outputs": []
    },
    {
      "cell_type": "code",
      "metadata": {
        "id": "h7Xrvpgb27yx",
        "colab_type": "code",
        "colab": {}
      },
      "source": [
        ""
      ],
      "execution_count": null,
      "outputs": []
    },
    {
      "cell_type": "code",
      "metadata": {
        "id": "b-hq7dLVMAKl",
        "colab_type": "code",
        "colab": {
          "base_uri": "https://localhost:8080/",
          "height": 347
        },
        "outputId": "f002ba81-1e3b-49b9-df78-9236b956ba69"
      },
      "source": [
        "np.apply_along_axis(np.mgrid[0:4,0:4].T)"
      ],
      "execution_count": 92,
      "outputs": [
        {
          "output_type": "execute_result",
          "data": {
            "text/plain": [
              "array([[[0, 0],\n",
              "        [1, 0],\n",
              "        [2, 0],\n",
              "        [3, 0]],\n",
              "\n",
              "       [[0, 1],\n",
              "        [1, 1],\n",
              "        [2, 1],\n",
              "        [3, 1]],\n",
              "\n",
              "       [[0, 2],\n",
              "        [1, 2],\n",
              "        [2, 2],\n",
              "        [3, 2]],\n",
              "\n",
              "       [[0, 3],\n",
              "        [1, 3],\n",
              "        [2, 3],\n",
              "        [3, 3]]])"
            ]
          },
          "metadata": {
            "tags": []
          },
          "execution_count": 92
        }
      ]
    },
    {
      "cell_type": "code",
      "metadata": {
        "id": "9IiSM-pt3KLC",
        "colab_type": "code",
        "colab": {}
      },
      "source": [
        ""
      ],
      "execution_count": null,
      "outputs": []
    }
  ]
}
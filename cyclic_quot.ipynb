{
  "nbformat": 4,
  "nbformat_minor": 0,
  "metadata": {
    "colab": {
      "name": "cyclic_quot.ipynb",
      "provenance": [],
      "authorship_tag": "ABX9TyOGGfs/psZGwbHLG21hr6VH",
      "include_colab_link": true
    },
    "kernelspec": {
      "name": "python3",
      "display_name": "Python 3"
    }
  },
  "cells": [
    {
      "cell_type": "markdown",
      "metadata": {
        "id": "view-in-github",
        "colab_type": "text"
      },
      "source": [
        "<a href=\"https://colab.research.google.com/github/tooflesswulf/cyclic_quotient/blob/master/cyclic_quot.ipynb\" target=\"_parent\"><img src=\"https://colab.research.google.com/assets/colab-badge.svg\" alt=\"Open In Colab\"/></a>"
      ]
    },
    {
      "cell_type": "markdown",
      "metadata": {
        "id": "PuFfaj3VJWXa",
        "colab_type": "text"
      },
      "source": [
        "Web sync copy on github:\n",
        "\n",
        "[cyclic_quotient](https://github.com/tooflesswulf/cyclic_quotient)"
      ]
    },
    {
      "cell_type": "code",
      "metadata": {
        "id": "xcImZIGcJZAg",
        "colab_type": "code",
        "colab": {}
      },
      "source": [
        "import numpy as np\n",
        "import matplotlib.pyplot as plt\n",
        "\n",
        "%matplotlib inline"
      ],
      "execution_count": 1,
      "outputs": []
    },
    {
      "cell_type": "code",
      "metadata": {
        "id": "olteonY1JgRp",
        "colab_type": "code",
        "colab": {}
      },
      "source": [
        "def off_diag(sz, val):\n",
        "  mat = np.ones((sz, sz))\n",
        "  blyat = np.arange(sz)[1:]\n",
        "  mat[blyat, blyat[::-1]] = val\n",
        "  return mat\n",
        "\n",
        "def prime_mat(n):\n",
        "  return off_diag(n, n)\n",
        "\n",
        "def tile(mat, n):\n",
        "    return np.tile(mat, (n,n))\n",
        "\n",
        "def diag_tile(mat_in, n):\n",
        "  t1 = off_diag(n, 2) - 1\n",
        "  t2 = 1 - t1\n",
        "  return np.kron(t1, mat_in) + np.kron(t2, np.ones_like(mat_in))"
      ],
      "execution_count": 2,
      "outputs": []
    },
    {
      "cell_type": "code",
      "metadata": {
        "id": "Lr6sof2iKHQS",
        "colab_type": "code",
        "colab": {
          "base_uri": "https://localhost:8080/",
          "height": 69
        },
        "outputId": "a53fc10f-034d-41a3-d769-575a2591dbd7"
      },
      "source": [
        "prime_mat(3)"
      ],
      "execution_count": 3,
      "outputs": [
        {
          "output_type": "execute_result",
          "data": {
            "text/plain": [
              "array([[1., 1., 1.],\n",
              "       [1., 1., 3.],\n",
              "       [1., 3., 1.]])"
            ]
          },
          "metadata": {
            "tags": []
          },
          "execution_count": 3
        }
      ]
    },
    {
      "cell_type": "code",
      "metadata": {
        "id": "XIoMrg7qKIiH",
        "colab_type": "code",
        "colab": {}
      },
      "source": [
        "quot_8 = tile(prime_mat(2), 2) * off_diag(4, 2)"
      ],
      "execution_count": 10,
      "outputs": []
    },
    {
      "cell_type": "code",
      "metadata": {
        "id": "WyD8VZAaKNol",
        "colab_type": "code",
        "colab": {
          "base_uri": "https://localhost:8080/",
          "height": 286
        },
        "outputId": "a33191fc-0f4e-419d-a844-2ebc58c03bb1"
      },
      "source": [
        "plt.imshow(quot_8, cmap='hot')"
      ],
      "execution_count": 11,
      "outputs": [
        {
          "output_type": "execute_result",
          "data": {
            "text/plain": [
              "<matplotlib.image.AxesImage at 0x7f739c99bba8>"
            ]
          },
          "metadata": {
            "tags": []
          },
          "execution_count": 11
        },
        {
          "output_type": "display_data",
          "data": {
            "image/png": "[encoded data removed]",
            "text/plain": [
              "<Figure size 432x288 with 1 Axes>"
            ]
          },
          "metadata": {
            "tags": [],
            "needs_background": "light"
          }
        }
      ]
    },
    {
      "cell_type": "code",
      "metadata": {
        "id": "ige8bYTqKRSb",
        "colab_type": "code",
        "colab": {
          "base_uri": "https://localhost:8080/",
          "height": 282
        },
        "outputId": "9d336cf1-4a36-4880-a0b6-6d448e9d8c83"
      },
      "source": [
        "plt.imshow(tile(prime_mat(2), 4), cmap='hot')"
      ],
      "execution_count": 14,
      "outputs": [
        {
          "output_type": "execute_result",
          "data": {
            "text/plain": [
              "<matplotlib.image.AxesImage at 0x7f739c3e9550>"
            ]
          },
          "metadata": {
            "tags": []
          },
          "execution_count": 14
        },
        {
          "output_type": "display_data",
          "data": {
            "image/png": "[encoded data removed]",
            "text/plain": [
              "<Figure size 432x288 with 1 Axes>"
            ]
          },
          "metadata": {
            "tags": [],
            "needs_background": "light"
          }
        }
      ]
    },
    {
      "cell_type": "code",
      "metadata": {
        "id": "b-hq7dLVMAKl",
        "colab_type": "code",
        "colab": {}
      },
      "source": [
        ""
      ],
      "execution_count": null,
      "outputs": []
    }
  ]
}